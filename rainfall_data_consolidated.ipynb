{
 "cells": [
  {
   "cell_type": "code",
   "execution_count": 2,
   "metadata": {},
   "outputs": [
    {
     "name": "stdout",
     "output_type": "stream",
     "text": [
      "<class 'pandas.core.frame.DataFrame'>\n",
      "DatetimeIndex: 3287 entries, 2010-01-01 to 2018-12-31\n",
      "Data columns (total 5 columns):\n",
      " #   Column     Non-Null Count  Dtype  \n",
      "---  ------     --------------  -----  \n",
      " 0   kahu       3283 non-null   float64\n",
      " 1   kandaghat  3043 non-null   float64\n",
      " 2   kasauli    3285 non-null   float64\n",
      " 3   solan      3286 non-null   float64\n",
      " 4   arki       3034 non-null   float64\n",
      "dtypes: float64(5)\n",
      "memory usage: 154.1 KB\n",
      "<class 'pandas.core.frame.DataFrame'>\n",
      "DatetimeIndex: 3287 entries, 2010-01-01 to 2018-12-31\n",
      "Data columns (total 6 columns):\n",
      " #   Column     Non-Null Count  Dtype  \n",
      "---  ------     --------------  -----  \n",
      " 0   kahu       3287 non-null   float64\n",
      " 1   kandaghat  3287 non-null   float64\n",
      " 2   kasauli    3287 non-null   float64\n",
      " 3   solan      3287 non-null   float64\n",
      " 4   arki       3287 non-null   float64\n",
      " 5   avg        3287 non-null   float64\n",
      "dtypes: float64(6)\n",
      "memory usage: 179.8 KB\n"
     ]
    },
    {
     "data": {
      "text/plain": [
       "kahu          8.70\n",
       "kandaghat     6.30\n",
       "kasauli      28.00\n",
       "solan        26.40\n",
       "arki         17.35\n",
       "Name: 2018-09-13 00:00:00, dtype: float64"
      ]
     },
     "execution_count": 2,
     "metadata": {},
     "output_type": "execute_result"
    }
   ],
   "source": [
    "import pandas as pd\n",
    "import numpy as np\n",
    "\n",
    "kahu=pd.read_csv(r\"D:\\Dekstop\\Dekstop folders\\Data Science\\Kahu.csv\").drop(\"Unnamed: 0\",axis=1)\n",
    "kandaghat=pd.read_csv(r\"D:\\Dekstop\\Dekstop folders\\Data Science\\Kandaghat.csv\").drop(\"Unnamed: 0\",axis=1)\n",
    "kasauli=pd.read_csv(r\"D:\\Dekstop\\Dekstop folders\\Data Science\\Kasauli.csv\").drop(\"Unnamed: 0\",axis=1)\n",
    "solan=pd.read_csv(r\"D:\\Dekstop\\Dekstop folders\\Data Science\\Solan.csv\").drop(\"Unnamed: 0\",axis=1)\n",
    "arki=pd.read_csv(r\"D:\\Dekstop\\Dekstop folders\\Data Science\\Arki.csv\").drop(\"Unnamed: 0\",axis=1)\n",
    "\n",
    "kahu[\"date\"]=pd.to_datetime(kahu[\"date\"],yearfirst=True)\n",
    "kahu.set_index(\"date\",inplace=True,drop=True)\n",
    "\n",
    "kandaghat[\"date\"]=pd.to_datetime(kandaghat[\"date\"],yearfirst=True)\n",
    "kandaghat.set_index(\"date\",inplace=True,drop=True)\n",
    "\n",
    "kasauli[\"date\"]=pd.to_datetime(kasauli[\"date\"],yearfirst=True)\n",
    "kasauli.set_index(\"date\",inplace=True,drop=True)\n",
    "\n",
    "solan[\"date\"]=pd.to_datetime(solan[\"date\"],yearfirst=True)\n",
    "solan.set_index(\"date\",inplace=True,drop=True)\n",
    "\n",
    "arki[\"date\"]=pd.to_datetime(arki[\"date\"],yearfirst=True)\n",
    "arki.set_index(\"date\",inplace=True,drop=True)\n",
    "\n",
    "\n",
    "\n",
    "\n",
    "rainfall=pd.concat([kahu,kandaghat,kasauli,solan,arki],axis=1)\n",
    "rainfall.info()\n",
    "rainfall[\"avg\"]=rainfall.mean(axis=1)\n",
    "rainfall[\"kahu\"].fillna(value=rainfall[\"avg\"],inplace=True)\n",
    "rainfall[\"arki\"].fillna(value=rainfall[\"avg\"],inplace=True)\n",
    "rainfall[\"kandaghat\"].fillna(value=rainfall[\"avg\"],inplace=True)\n",
    "rainfall[\"solan\"].fillna(value=rainfall[\"avg\"],inplace=True)\n",
    "rainfall[\"kasauli\"].fillna(value=rainfall[\"avg\"],inplace=True)\n",
    "rainfall.info()\n",
    "rainfall=rainfall.drop(\"avg\",axis=1)\n",
    "rainfall.to_csv(\"rainfall1.csv\")\n",
    "\n",
    "rainfall.loc[\"2018-09-13\",:]"
   ]
  }
 ],
 "metadata": {
  "kernelspec": {
   "display_name": "venv",
   "language": "python",
   "name": "python3"
  },
  "language_info": {
   "codemirror_mode": {
    "name": "ipython",
    "version": 3
   },
   "file_extension": ".py",
   "mimetype": "text/x-python",
   "name": "python",
   "nbconvert_exporter": "python",
   "pygments_lexer": "ipython3",
   "version": "3.10.2"
  },
  "orig_nbformat": 4
 },
 "nbformat": 4,
 "nbformat_minor": 2
}
