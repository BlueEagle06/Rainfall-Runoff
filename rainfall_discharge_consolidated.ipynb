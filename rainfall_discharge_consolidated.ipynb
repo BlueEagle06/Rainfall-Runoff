{
 "cells": [
  {
   "cell_type": "code",
   "execution_count": 8,
   "metadata": {},
   "outputs": [
    {
     "name": "stdout",
     "output_type": "stream",
     "text": [
      "(1098, 1)\n"
     ]
    },
    {
     "data": {
      "text/plain": [
       "kahu   kandaghat  kasauli  solan  arki   discharge\n",
       "False  False      False    False  False  True         2189\n",
       "                                         False        1098\n",
       "dtype: int64"
      ]
     },
     "execution_count": 8,
     "metadata": {},
     "output_type": "execute_result"
    }
   ],
   "source": [
    "import pandas as pd\n",
    "import numpy as np\n",
    "\n",
    "\n",
    "discharge=pd.read_csv(r\"D:\\Dekstop\\Dekstop folders\\Data Science\\python course\\major project part 2\\final_discharge.csv\")\n",
    "\n",
    "discharge[\"date\"]=pd.to_datetime(discharge[\"date\"],yearfirst=True)\n",
    "discharge.set_index(\"date\",inplace=True,drop=True)\n",
    "print(discharge.shape)\n",
    "rainfall=pd.read_csv(r\"D:\\Dekstop\\Dekstop folders\\Data Science\\python course\\major project part 2\\rainfall1.csv\")\n",
    "rainfall[\"date\"]=pd.to_datetime(rainfall[\"date\"],yearfirst=True)\n",
    "rainfall.set_index(\"date\",inplace=True,drop=True)\n",
    "\n",
    "\n",
    "final_data1=pd.concat([rainfall,discharge],axis=1)\n",
    "final_data1.to_csv(\"final_data1.csv\")\n",
    "final_data1.isna().value_counts()"
   ]
  }
 ],
 "metadata": {
  "kernelspec": {
   "display_name": "venv",
   "language": "python",
   "name": "python3"
  },
  "language_info": {
   "codemirror_mode": {
    "name": "ipython",
    "version": 3
   },
   "file_extension": ".py",
   "mimetype": "text/x-python",
   "name": "python",
   "nbconvert_exporter": "python",
   "pygments_lexer": "ipython3",
   "version": "3.10.2"
  },
  "orig_nbformat": 4
 },
 "nbformat": 4,
 "nbformat_minor": 2
}
